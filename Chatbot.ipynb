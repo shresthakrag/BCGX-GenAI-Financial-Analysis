{
 "cells": [
  {
   "cell_type": "markdown",
   "id": "5591d3fc-14fa-4991-867e-b41484707990",
   "metadata": {},
   "source": [
    "# 1. Predefined Queries"
   ]
  },
  {
   "cell_type": "markdown",
   "id": "aa9e0747-4181-4b58-9395-60800eb6d47b",
   "metadata": {},
   "source": [
    "+ \"What is the total revenue for [Company] in [Year]?\"\n",
    "+ \"How has net income changed for [Company] over the last year?\"\n",
    "+ \"What is the debt-to-asset ratio for [Company]?\"\n",
    "+ \"What is the cash flow for [Company] in [Year]?\"\n",
    "+ \"Show me the revenue growth trend for [Company].\""
   ]
  },
  {
   "cell_type": "markdown",
   "id": "275beeae-11d0-46e7-86bb-8c55d481d2de",
   "metadata": {},
   "source": [
    "# 2. Prepare Responses"
   ]
  },
  {
   "cell_type": "code",
   "execution_count": 123,
   "id": "0a786e86-34be-4df7-bf58-97473fe7163f",
   "metadata": {},
   "outputs": [
    {
     "data": {
      "text/html": [
       "<div>\n",
       "<style scoped>\n",
       "    .dataframe tbody tr th:only-of-type {\n",
       "        vertical-align: middle;\n",
       "    }\n",
       "\n",
       "    .dataframe tbody tr th {\n",
       "        vertical-align: top;\n",
       "    }\n",
       "\n",
       "    .dataframe thead th {\n",
       "        text-align: right;\n",
       "    }\n",
       "</style>\n",
       "<table border=\"1\" class=\"dataframe\">\n",
       "  <thead>\n",
       "    <tr style=\"text-align: right;\">\n",
       "      <th></th>\n",
       "      <th>Company</th>\n",
       "      <th>Fiscal_Year</th>\n",
       "      <th>Total_Revenue</th>\n",
       "      <th>Net_Income</th>\n",
       "      <th>Total_Assets</th>\n",
       "      <th>Total_Liabilities</th>\n",
       "      <th>Cash_Flow</th>\n",
       "      <th>Revenue_Growth_%</th>\n",
       "      <th>Net_Income_Growth_%</th>\n",
       "      <th>Net_Profit_Margin_%</th>\n",
       "      <th>Debt_to_Asset_Ratio</th>\n",
       "      <th>Cash_Flow_to_Revenue_%</th>\n",
       "    </tr>\n",
       "  </thead>\n",
       "  <tbody>\n",
       "    <tr>\n",
       "      <th>0</th>\n",
       "      <td>Apple</td>\n",
       "      <td>2022-23</td>\n",
       "      <td>394328.0</td>\n",
       "      <td>99803.0</td>\n",
       "      <td>352755.0</td>\n",
       "      <td>302083.0</td>\n",
       "      <td>122151.0</td>\n",
       "      <td>0.000000</td>\n",
       "      <td>0.000000</td>\n",
       "      <td>25.309641</td>\n",
       "      <td>0.856354</td>\n",
       "      <td>30.977004</td>\n",
       "    </tr>\n",
       "    <tr>\n",
       "      <th>1</th>\n",
       "      <td>Apple</td>\n",
       "      <td>2023-24</td>\n",
       "      <td>383285.0</td>\n",
       "      <td>96995.0</td>\n",
       "      <td>352583.0</td>\n",
       "      <td>306278.0</td>\n",
       "      <td>110540.0</td>\n",
       "      <td>-2.800461</td>\n",
       "      <td>-2.813543</td>\n",
       "      <td>25.306234</td>\n",
       "      <td>0.868669</td>\n",
       "      <td>28.840158</td>\n",
       "    </tr>\n",
       "    <tr>\n",
       "      <th>2</th>\n",
       "      <td>Apple</td>\n",
       "      <td>2024-25</td>\n",
       "      <td>391035.0</td>\n",
       "      <td>93736.0</td>\n",
       "      <td>364980.0</td>\n",
       "      <td>314529.0</td>\n",
       "      <td>115672.0</td>\n",
       "      <td>2.021994</td>\n",
       "      <td>-3.359967</td>\n",
       "      <td>23.971256</td>\n",
       "      <td>0.861771</td>\n",
       "      <td>29.580984</td>\n",
       "    </tr>\n",
       "    <tr>\n",
       "      <th>3</th>\n",
       "      <td>Tesla</td>\n",
       "      <td>2022-23</td>\n",
       "      <td>81462.0</td>\n",
       "      <td>12556.0</td>\n",
       "      <td>82343.0</td>\n",
       "      <td>40953.0</td>\n",
       "      <td>14724.0</td>\n",
       "      <td>0.000000</td>\n",
       "      <td>0.000000</td>\n",
       "      <td>15.413322</td>\n",
       "      <td>0.497346</td>\n",
       "      <td>18.074685</td>\n",
       "    </tr>\n",
       "    <tr>\n",
       "      <th>4</th>\n",
       "      <td>Tesla</td>\n",
       "      <td>2023-24</td>\n",
       "      <td>94028.0</td>\n",
       "      <td>15001.0</td>\n",
       "      <td>90231.0</td>\n",
       "      <td>42187.0</td>\n",
       "      <td>16564.0</td>\n",
       "      <td>15.425597</td>\n",
       "      <td>19.472762</td>\n",
       "      <td>15.953758</td>\n",
       "      <td>0.467544</td>\n",
       "      <td>17.616029</td>\n",
       "    </tr>\n",
       "    <tr>\n",
       "      <th>5</th>\n",
       "      <td>Tesla</td>\n",
       "      <td>2024-25</td>\n",
       "      <td>101276.0</td>\n",
       "      <td>17894.0</td>\n",
       "      <td>98543.0</td>\n",
       "      <td>45612.0</td>\n",
       "      <td>18203.0</td>\n",
       "      <td>7.708342</td>\n",
       "      <td>19.285381</td>\n",
       "      <td>17.668549</td>\n",
       "      <td>0.462864</td>\n",
       "      <td>17.973656</td>\n",
       "    </tr>\n",
       "    <tr>\n",
       "      <th>6</th>\n",
       "      <td>Microsoft</td>\n",
       "      <td>2022-23</td>\n",
       "      <td>198270.0</td>\n",
       "      <td>72738.0</td>\n",
       "      <td>364840.0</td>\n",
       "      <td>198320.0</td>\n",
       "      <td>89034.0</td>\n",
       "      <td>0.000000</td>\n",
       "      <td>0.000000</td>\n",
       "      <td>36.686337</td>\n",
       "      <td>0.543581</td>\n",
       "      <td>44.905432</td>\n",
       "    </tr>\n",
       "    <tr>\n",
       "      <th>7</th>\n",
       "      <td>Microsoft</td>\n",
       "      <td>2023-24</td>\n",
       "      <td>211540.0</td>\n",
       "      <td>79105.0</td>\n",
       "      <td>382125.0</td>\n",
       "      <td>204876.0</td>\n",
       "      <td>95678.0</td>\n",
       "      <td>6.692894</td>\n",
       "      <td>8.753334</td>\n",
       "      <td>37.394819</td>\n",
       "      <td>0.536149</td>\n",
       "      <td>45.229271</td>\n",
       "    </tr>\n",
       "    <tr>\n",
       "      <th>8</th>\n",
       "      <td>Microsoft</td>\n",
       "      <td>2024-25</td>\n",
       "      <td>225380.0</td>\n",
       "      <td>85290.0</td>\n",
       "      <td>399672.0</td>\n",
       "      <td>213429.0</td>\n",
       "      <td>102345.0</td>\n",
       "      <td>6.542498</td>\n",
       "      <td>7.818722</td>\n",
       "      <td>37.842754</td>\n",
       "      <td>0.534010</td>\n",
       "      <td>45.409974</td>\n",
       "    </tr>\n",
       "  </tbody>\n",
       "</table>\n",
       "</div>"
      ],
      "text/plain": [
       "     Company Fiscal_Year  Total_Revenue  Net_Income  Total_Assets  \\\n",
       "0      Apple     2022-23       394328.0     99803.0      352755.0   \n",
       "1      Apple     2023-24       383285.0     96995.0      352583.0   \n",
       "2      Apple     2024-25       391035.0     93736.0      364980.0   \n",
       "3      Tesla     2022-23        81462.0     12556.0       82343.0   \n",
       "4      Tesla     2023-24        94028.0     15001.0       90231.0   \n",
       "5      Tesla     2024-25       101276.0     17894.0       98543.0   \n",
       "6  Microsoft     2022-23       198270.0     72738.0      364840.0   \n",
       "7  Microsoft     2023-24       211540.0     79105.0      382125.0   \n",
       "8  Microsoft     2024-25       225380.0     85290.0      399672.0   \n",
       "\n",
       "   Total_Liabilities  Cash_Flow  Revenue_Growth_%  Net_Income_Growth_%  \\\n",
       "0           302083.0   122151.0          0.000000             0.000000   \n",
       "1           306278.0   110540.0         -2.800461            -2.813543   \n",
       "2           314529.0   115672.0          2.021994            -3.359967   \n",
       "3            40953.0    14724.0          0.000000             0.000000   \n",
       "4            42187.0    16564.0         15.425597            19.472762   \n",
       "5            45612.0    18203.0          7.708342            19.285381   \n",
       "6           198320.0    89034.0          0.000000             0.000000   \n",
       "7           204876.0    95678.0          6.692894             8.753334   \n",
       "8           213429.0   102345.0          6.542498             7.818722   \n",
       "\n",
       "   Net_Profit_Margin_%  Debt_to_Asset_Ratio  Cash_Flow_to_Revenue_%  \n",
       "0            25.309641             0.856354               30.977004  \n",
       "1            25.306234             0.868669               28.840158  \n",
       "2            23.971256             0.861771               29.580984  \n",
       "3            15.413322             0.497346               18.074685  \n",
       "4            15.953758             0.467544               17.616029  \n",
       "5            17.668549             0.462864               17.973656  \n",
       "6            36.686337             0.543581               44.905432  \n",
       "7            37.394819             0.536149               45.229271  \n",
       "8            37.842754             0.534010               45.409974  "
      ]
     },
     "execution_count": 123,
     "metadata": {},
     "output_type": "execute_result"
    }
   ],
   "source": [
    "import pandas as pd\n",
    "df = pd.read_csv(\"modified_company_data.csv\")\n",
    "df"
   ]
  },
  {
   "cell_type": "markdown",
   "id": "89a2f0a3-7a28-4dea-91d2-e730f268af3c",
   "metadata": {},
   "source": [
    "### (a) Total Revenue Query"
   ]
  },
  {
   "cell_type": "code",
   "execution_count": 44,
   "id": "74a51daa-ada9-4fa9-ba4d-22eda0e7b9ac",
   "metadata": {},
   "outputs": [],
   "source": [
    "def get_total_revenue(company, year):\n",
    "    result = df[(df[\"Company\"] == company) & (df[\"Fiscal_Year\"] == year)]\n",
    "    if not result.empty:\n",
    "        revenue = result[\"Total_Revenue\"].values[0]\n",
    "        return f\"The total revenue for {company} in {year} was {revenue} million.\"\n",
    "    else:\n",
    "        return f\"Sorry, I couldn't find revenue data for {company} in {year}.\""
   ]
  },
  {
   "cell_type": "code",
   "execution_count": 46,
   "id": "13f18311-ea97-464e-bf3d-ddf38a0947ed",
   "metadata": {},
   "outputs": [
    {
     "data": {
      "text/plain": [
       "'The total revenue for Tesla in 2022-23 was 81462.0 million.'"
      ]
     },
     "execution_count": 46,
     "metadata": {},
     "output_type": "execute_result"
    }
   ],
   "source": [
    "get_total_revenue(\"Tesla\", \"2022-23\")"
   ]
  },
  {
   "cell_type": "code",
   "execution_count": 48,
   "id": "5c90b49e-d79e-4af8-92a1-a5a7c1dadfd3",
   "metadata": {},
   "outputs": [
    {
     "data": {
      "text/plain": [
       "\"Sorry, I couldn't find revenue data for Youtube in 2021-22.\""
      ]
     },
     "execution_count": 48,
     "metadata": {},
     "output_type": "execute_result"
    }
   ],
   "source": [
    "get_total_revenue(\"Youtube\", \"2021-22\")"
   ]
  },
  {
   "cell_type": "markdown",
   "id": "908efd32-ab17-4d58-bbea-590c776fd0ba",
   "metadata": {},
   "source": [
    "### (b) Net Income Change Query"
   ]
  },
  {
   "cell_type": "code",
   "execution_count": 51,
   "id": "dad68f5a-bf45-4a89-852b-bd0756f8aae6",
   "metadata": {},
   "outputs": [],
   "source": [
    "def get_net_income_change(company):\n",
    "    result = df[df[\"Company\"] == company]\n",
    "    result = result.sort_values(by=\"Fiscal_Year\")\n",
    "    result[\"Net_Income_Growth_%\"] = result[\"Net_Income\"].pct_change() * 100\n",
    "\n",
    "    last_year = result[\"Fiscal_Year\"].iloc[-1]\n",
    "    last_growth = result[\"Net_Income_Growth_%\"].iloc[-1]\n",
    "\n",
    "    if not pd.isna(last_growth):\n",
    "        return f\"Net income for {company} changed by {last_growth:.2f}% in {last_year}.\"\n",
    "    else:\n",
    "        return f\"Not enough data to calculate net income change for {company}.\"\n"
   ]
  },
  {
   "cell_type": "code",
   "execution_count": 53,
   "id": "4157a0b5-193d-4263-bf34-0288e4fca0c7",
   "metadata": {},
   "outputs": [
    {
     "data": {
      "text/plain": [
       "'Net income for Apple changed by -3.36% in 2024-25.'"
      ]
     },
     "execution_count": 53,
     "metadata": {},
     "output_type": "execute_result"
    }
   ],
   "source": [
    "get_net_income_change(\"Apple\")"
   ]
  },
  {
   "cell_type": "markdown",
   "id": "2da938d1-b09a-49da-9166-bac80dc5815c",
   "metadata": {},
   "source": [
    "### (c) Debt-to-Asset Ratio Query"
   ]
  },
  {
   "cell_type": "code",
   "execution_count": 102,
   "id": "584c0ce6-23cd-4e31-a68e-c14bac0ae941",
   "metadata": {},
   "outputs": [],
   "source": [
    "def get_debt_to_asset_ratio(company):\n",
    "    result = df[df[\"Company\"] == company]\n",
    "    latest_year = result[\"Fiscal_Year\"].iloc[-1]\n",
    "    latest_ratio = (result[\"Total_Liabilities\"] / result[\"Total_Assets\"]).iloc[-1]\n",
    "\n",
    "    return f\"The latest debt-to-asset ratio for {company} ({latest_year}) is {latest_ratio:.2f}.\""
   ]
  },
  {
   "cell_type": "code",
   "execution_count": 104,
   "id": "2cea1fde-d4ea-43d7-84a6-05c0fff07646",
   "metadata": {},
   "outputs": [
    {
     "data": {
      "text/plain": [
       "'The latest debt-to-asset ratio for Microsoft (2024-25) is 0.53.'"
      ]
     },
     "execution_count": 104,
     "metadata": {},
     "output_type": "execute_result"
    }
   ],
   "source": [
    "get_debt_to_asset_ratio(\"Microsoft\")"
   ]
  },
  {
   "cell_type": "markdown",
   "id": "49fa4031-ad95-4b41-823e-f43982f54931",
   "metadata": {},
   "source": [
    "### (d) Cash Flow Query"
   ]
  },
  {
   "cell_type": "code",
   "execution_count": 90,
   "id": "d883497e-1c94-410a-b04f-13fd317effc4",
   "metadata": {},
   "outputs": [],
   "source": [
    "def get_cash_flow(company, year):\n",
    "    result = df[(df[\"Company\"] == company) & (df[\"Fiscal_Year\"] == year)]\n",
    "    if not result.empty:\n",
    "        cash_flow = result[\"Cash_Flow\"].values[0]\n",
    "        return f\"The cash flow for {company} in {year} was {cash_flow} million dollars.\"\n",
    "    else:\n",
    "        return f\"Sorry, I couldn't find cash flow data for {company} in {year}.\""
   ]
  },
  {
   "cell_type": "code",
   "execution_count": 92,
   "id": "d26b6121-a017-43cc-b473-52bf4de6b461",
   "metadata": {},
   "outputs": [
    {
     "data": {
      "text/plain": [
       "\"Sorry, I couldn't find cash flow data for Apple in 2021-22.\""
      ]
     },
     "execution_count": 92,
     "metadata": {},
     "output_type": "execute_result"
    }
   ],
   "source": [
    "get_cash_flow(\"Apple\", \"2021-22\")"
   ]
  },
  {
   "cell_type": "code",
   "execution_count": 94,
   "id": "156ae5d6-72b4-4b8c-b54c-31f40fa859a9",
   "metadata": {},
   "outputs": [
    {
     "data": {
      "text/plain": [
       "'The cash flow for Apple in 2022-23 was 122151.0 million dollars.'"
      ]
     },
     "execution_count": 94,
     "metadata": {},
     "output_type": "execute_result"
    }
   ],
   "source": [
    "get_cash_flow(\"Apple\", \"2022-23\")"
   ]
  },
  {
   "cell_type": "markdown",
   "id": "b356670d-f7f3-42aa-bef8-85070be40efd",
   "metadata": {},
   "source": [
    "### (e) Revenue Growth Trend Query"
   ]
  },
  {
   "cell_type": "code",
   "execution_count": 109,
   "id": "d301a090-14eb-4037-8b8b-5e2dbffdcdf2",
   "metadata": {},
   "outputs": [],
   "source": [
    "import matplotlib.pyplot as plt\n",
    "import seaborn as sns\n",
    "\n",
    "def plot_revenue_growth(company):\n",
    "    result = df[df[\"Company\"] == company]\n",
    "    result = result.sort_values(by=\"Fiscal_Year\")\n",
    "    \n",
    "    plt.figure(figsize=(8, 4))\n",
    "    sns.lineplot(data=result, x=\"Fiscal_Year\", y=\"Total_Revenue\", marker=\"o\", label=\"Revenue\")\n",
    "    plt.title(f\"{company} Revenue Growth Over Years\")\n",
    "    plt.xlabel(\"Fiscal Year\")\n",
    "    plt.ylabel(\"Total Revenue (in million)\")\n",
    "    plt.xticks(rotation=45)\n",
    "    plt.legend()\n",
    "    plt.show()\n",
    "    \n",
    "    return f\"Here is the revenue growth trend for {company}.\""
   ]
  },
  {
   "cell_type": "code",
   "execution_count": 111,
   "id": "cf14ce53-3a0e-4c4e-94b7-44f924b45f0b",
   "metadata": {},
   "outputs": [
    {
     "data": {
      "image/png": "[encoded data removed]",
      "text/plain": [
       "<Figure size 800x400 with 1 Axes>"
      ]
     },
     "metadata": {},
     "output_type": "display_data"
    },
    {
     "data": {
      "text/plain": [
       "'Here is the revenue growth trend for Tesla.'"
      ]
     },
     "execution_count": 111,
     "metadata": {},
     "output_type": "execute_result"
    }
   ],
   "source": [
    "plot_revenue_growth(\"Tesla\")"
   ]
  },
  {
   "cell_type": "markdown",
   "id": "68c20dc5-1d93-4c97-b77f-1c110f504ec9",
   "metadata": {},
   "source": [
    "# Interactive Chatbot"
   ]
  },
  {
   "cell_type": "code",
   "execution_count": 114,
   "id": "789c8ffa-4a37-4a26-b9a2-8a3f85f9f538",
   "metadata": {},
   "outputs": [],
   "source": [
    "# Ensure numeric columns are properly formatted\n",
    "df[\"Total_Revenue\"] = df[\"Total_Revenue\"].astype(float)\n",
    "df[\"Net_Income\"] = df[\"Net_Income\"].astype(float)\n",
    "df[\"Total_Assets\"] = df[\"Total_Assets\"].astype(float)\n",
    "df[\"Total_Liabilities\"] = df[\"Total_Liabilities\"].astype(float)\n",
    "df[\"Cash_Flow\"] = df[\"Cash_Flow\"].astype(float)"
   ]
  },
  {
   "cell_type": "code",
   "execution_count": 181,
   "id": "bd7bce68-30aa-4ae8-9f91-95324eb2cb50",
   "metadata": {},
   "outputs": [],
   "source": [
    "def get_total_revenue(company, year):\n",
    "    result = df[(df[\"Company\"] == company) & (df[\"Fiscal_Year\"] == year)]\n",
    "    if not result.empty:\n",
    "        revenue = result[\"Total_Revenue\"].iloc[0]\n",
    "        return f\"The total revenue for {company} in {year} was {revenue} million.\"\n",
    "    return f\"Sorry, I couldn't find revenue data for {company} in {year}.\""
   ]
  },
  {
   "cell_type": "code",
   "execution_count": 183,
   "id": "8d5ebdd1-d7ea-42bd-a2d1-9d15ed6baa78",
   "metadata": {},
   "outputs": [],
   "source": [
    "def get_net_income_change(company):\n",
    "    result = df[df[\"Company\"] == company].sort_values(by=\"Fiscal_Year\")\n",
    "    \n",
    "    if len(result) < 2:\n",
    "        return f\"Not enough data to calculate net income change for {company}.\"\n",
    "\n",
    "    result[\"Net_Income_Growth_%\"] = result[\"Net_Income\"].pct_change() * 100\n",
    "    last_year = result[\"Fiscal_Year\"].iloc[-1]\n",
    "    last_growth = result[\"Net_Income_Growth_%\"].iloc[-1]\n",
    "    \n",
    "    if pd.notna(last_growth):\n",
    "        return f\"Net income for {company} changed by {last_growth:.2f}% in {last_year}.\"\n",
    "    return f\"Not enough data to calculate net income change for {company}.\""
   ]
  },
  {
   "cell_type": "code",
   "execution_count": 185,
   "id": "9ab2bee4-9d73-420c-a34b-19c7329f6c2e",
   "metadata": {},
   "outputs": [],
   "source": [
    "def get_debt_to_asset_ratio(company):\n",
    "    result = df[df[\"Company\"] == company]\n",
    "    if result.empty:\n",
    "        return f\"No financial data available for {company}.\"\n",
    "    \n",
    "    latest_record = result.sort_values(by=\"Fiscal_Year\").iloc[-1]\n",
    "    latest_year = latest_record[\"Fiscal_Year\"]\n",
    "    latest_ratio = latest_record[\"Total_Liabilities\"] / latest_record[\"Total_Assets\"]\n",
    "    \n",
    "    return f\"The latest debt-to-asset ratio for {company} ({latest_year}) is {latest_ratio:.2f}.\""
   ]
  },
  {
   "cell_type": "code",
   "execution_count": 187,
   "id": "83b10639-a0db-413d-9a1b-febc73b45558",
   "metadata": {},
   "outputs": [],
   "source": [
    "def get_cash_flow(company, year):\n",
    "    result = df[(df[\"Company\"] == company) & (df[\"Fiscal_Year\"] == year)]\n",
    "    if not result.empty:\n",
    "        cash_flow = result[\"Cash_Flow\"].iloc[0]\n",
    "        return f\"The cash flow for {company} in {year} was {cash_flow} million.\"\n",
    "    return f\"Sorry, I couldn't find cash flow data for {company} in {year}.\""
   ]
  },
  {
   "cell_type": "code",
   "execution_count": 189,
   "id": "717f9808-d6a2-47c2-b5fd-41ac1a939e0f",
   "metadata": {},
   "outputs": [],
   "source": [
    "def simple_chatbot():\n",
    "    print(\"Welcome to the Finance Chatbot! Type 'exit' to quit.\\n\")\n",
    "    \n",
    "    while True:\n",
    "        user_query = input(\"Ask a financial question: \").strip().lower()\n",
    "        \n",
    "        if user_query == \"exit\":\n",
    "            print(\"Goodbye!\")\n",
    "            break\n",
    "\n",
    "        elif \"total revenue\" in user_query:\n",
    "            company = input(\"Enter the company name: \").strip()\n",
    "            year = input(\"Enter the fiscal year: \").strip()\n",
    "            print(get_total_revenue(company, year))\n",
    "\n",
    "        elif \"net income\" in user_query:\n",
    "            company = input(\"Enter the company name: \").strip()\n",
    "            print(get_net_income_change(company))\n",
    "\n",
    "        elif \"debt-to-asset ratio\" in user_query:\n",
    "            company = input(\"Enter the company name: \").strip()\n",
    "            print(get_debt_to_asset_ratio(company))\n",
    "\n",
    "        elif \"cash flow\" in user_query:\n",
    "            company = input(\"Enter the company name: \").strip()\n",
    "            year = input(\"Enter the fiscal year: \").strip()\n",
    "            print(get_cash_flow(company, year))\n",
    "\n",
    "        else:\n",
    "            print(\"Sorry, I can only provide information on predefined queries.\")"
   ]
  },
  {
   "cell_type": "code",
   "execution_count": 179,
   "id": "15444a13-4684-424d-8cd8-b7531340792b",
   "metadata": {},
   "outputs": [
    {
     "name": "stdout",
     "output_type": "stream",
     "text": [
      "Welcome to the Finance Chatbot! Type 'exit' to quit.\n",
      "\n"
     ]
    },
    {
     "name": "stdin",
     "output_type": "stream",
     "text": [
      "Ask a financial question:  What is the debt-to-asset ratio?\n",
      "Enter the company name:  Tesla\n"
     ]
    },
    {
     "name": "stdout",
     "output_type": "stream",
     "text": [
      "The latest debt-to-asset ratio for Tesla (2024-25) is 0.46.\n"
     ]
    },
    {
     "name": "stdin",
     "output_type": "stream",
     "text": [
      "Ask a financial question:  What is the cash flo?\n"
     ]
    },
    {
     "name": "stdout",
     "output_type": "stream",
     "text": [
      "Sorry, I can only provide information on predefined queries.\n"
     ]
    },
    {
     "name": "stdin",
     "output_type": "stream",
     "text": [
      "Ask a financial question:  What is the cash flow?\n",
      "Enter the company name:  Microsoft\n",
      "Enter the fiscal year:  2023-24\n"
     ]
    },
    {
     "name": "stdout",
     "output_type": "stream",
     "text": [
      "The cash flow for Microsoft in 2023-24 was 95678.0 million.\n"
     ]
    },
    {
     "name": "stdin",
     "output_type": "stream",
     "text": [
      "Ask a financial question:  exit\n"
     ]
    },
    {
     "name": "stdout",
     "output_type": "stream",
     "text": [
      "Goodbye!\n"
     ]
    }
   ],
   "source": [
    "simple_chatbot()"
   ]
  },
  {
   "cell_type": "markdown",
   "id": "42e5e086-923c-43a7-85c4-c7a8c5b835a4",
   "metadata": {},
   "source": [
    "# Limitations"
   ]
  },
  {
   "cell_type": "markdown",
   "id": "01c935dc-b523-4ff2-97c6-f90df49a8fd4",
   "metadata": {},
   "source": [
    "**1. Lack of Natural Language Processing (NLP)**\n",
    "- The chatbot only checks for exact keyword matches (e.g., \"total revenue\" in user_query).\n",
    "- It won’t recognize variations like:\n",
    "    - \"How much did Apple make in 2024-25?\"\n",
    "    - \"Tell me about Apple’s revenue for 2024-25.\"\n",
    "- Users must phrase questions precisely, which is not user-friendly."
   ]
  },
  {
   "cell_type": "markdown",
   "id": "e2642089-93c5-4916-97fe-37d45f044488",
   "metadata": {},
   "source": [
    "**2. Requires Manual Entry for Company & Year**\n",
    "- After asking a question, users must enter the company name and fiscal year separately.\n",
    "- This makes interactions inefficient:\n",
    "    - \"What was Apple’s total revenue in 2024-25?\" → Shouldn’t need extra inputs!\n",
    "- It should extract the company and year from the user’s query."
   ]
  },
  {
   "cell_type": "markdown",
   "id": "5118c400-5db3-4068-afdf-f10cd09be322",
   "metadata": {},
   "source": [
    "**3. No Fuzzy Matching or Error Handling**\n",
    "- If a user misspells a company name (e.g., \"Appl\" instead of \"Apple\"), it won’t recognize it.\n",
    "- There’s no fuzzy matching to find the closest company name."
   ]
  },
  {
   "cell_type": "markdown",
   "id": "434e0d44-9d09-44cf-90be-5e694342987b",
   "metadata": {},
   "source": [
    "**4. Case Sensitivity Issues**\n",
    "- The chatbot converts queries to lowercase (.lower()), but if get_total_revenue() does case-sensitive lookups, it might fail:\n",
    "\"apple\" ≠ \"Apple\" in dataset searches."
   ]
  },
  {
   "cell_type": "markdown",
   "id": "e83871bc-439c-43f3-b7b1-c70c2cdee3e4",
   "metadata": {},
   "source": [
    "**5. No Data Validation**\n",
    "- If a user enters an invalid year (e.g., \"2024/2025\" or \"next year\"), the chatbot will likely break.\n",
    "- It doesn’t check whether:\n",
    "    - The company exists in the dataset.\n",
    "    - The fiscal year format is correct.\n",
    "    - The user provided valid inputs (e.g., no empty entries)."
   ]
  },
  {
   "cell_type": "markdown",
   "id": "db2d36a3-e5b5-4133-8486-5ee70531b500",
   "metadata": {},
   "source": [
    "**6. No Context Awareness**\n",
    "- If the user asks multiple questions, it forgets previous interactions:\n",
    "    - Ask a financial question: What was Apple's total revenue in 2024-25?\n",
    "    - Enter the company name: Apple\n",
    "    - Enter the fiscal year: 2024-25\n",
    "- The company and year were already in the question but still needed manual input.\n",
    "- If a user follows up with \"What about net income?\", the chatbot doesn't remember \"Apple\"."
   ]
  },
  {
   "cell_type": "markdown",
   "id": "91bd5a3a-4cc8-4665-9286-f1c554e0e9f8",
   "metadata": {},
   "source": [
    "**7. No Support for Multiple Queries**\n",
    "- If a user asks:\n",
    "    - \"Tell me Apple's total revenue and net income for 2024-25.\"\n",
    "    - The chatbot won't understand both requests."
   ]
  },
  {
   "cell_type": "markdown",
   "id": "c2a95998-9984-4fba-8ee3-e23338837eca",
   "metadata": {},
   "source": [
    "**8. Handling for Synonyms or Variations**\n",
    "- It won’t recognize that \"profit\" means \"net income\".\n",
    "- If someone asks about \"earnings\", the chatbot won’t match it to net income."
   ]
  },
  {
   "cell_type": "code",
   "execution_count": null,
   "id": "926a4985-7d86-4d87-b853-307e6ada9851",
   "metadata": {},
   "outputs": [],
   "source": []
  }
 ],
 "metadata": {
  "kernelspec": {
   "display_name": "Python 3 (ipykernel)",
   "language": "python",
   "name": "python3"
  },
  "language_info": {
   "codemirror_mode": {
    "name": "ipython",
    "version": 3
   },
   "file_extension": ".py",
   "mimetype": "text/x-python",
   "name": "python",
   "nbconvert_exporter": "python",
   "pygments_lexer": "ipython3",
   "version": "3.12.7"
  }
 },
 "nbformat": 4,
 "nbformat_minor": 5
}
