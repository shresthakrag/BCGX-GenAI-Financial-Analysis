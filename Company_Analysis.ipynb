{
 "cells": [
  {
   "cell_type": "markdown",
   "id": "7982bd5c-adad-44b9-a64c-1affb79d5052",
   "metadata": {},
   "source": [
    "# Data extraction"
   ]
  },
  {
   "cell_type": "markdown",
   "id": "d8122d96-c5cb-44c0-9717-55a3bb8180f6",
   "metadata": {},
   "source": [
    "**Navigate to the SEC's EDGAR database (https://www.sec.gov/edgar/search/):**\n",
    "\n",
    "- Microsoft\n",
    "- Tesla\n",
    "- Apple\n",
    "  \n",
    "**Manual extraction:**\n",
    "\n",
    "- For each company, find the 10-K filings for the last three fiscal years.\n",
    "- Extract the following financial figures: Total Revenue, Net Income, Total Assets, Total Liabilities, and Cash Flow from Operating Activities.\n",
    "\n",
    "**Organize Your Data:**\n",
    "- Compile the extracted data into an Excel spreadsheet for easy reference during your Python analysis."
   ]
  },
  {
   "cell_type": "markdown",
   "id": "47594000-8605-47ab-85e7-a8f86f4b91c8",
   "metadata": {},
   "source": [
    "# Python analysis"
   ]
  },
  {
   "cell_type": "code",
   "execution_count": 4,
   "id": "a1383aed-7176-4495-b330-0763de682d3f",
   "metadata": {},
   "outputs": [],
   "source": [
    "import pandas as pd"
   ]
  },
  {
   "cell_type": "code",
   "execution_count": 5,
   "id": "77d04e2c-2f92-4a09-bda0-8fd281aa4ed8",
   "metadata": {},
   "outputs": [
    {
     "data": {
      "text/html": [
       "<div>\n",
       "<style scoped>\n",
       "    .dataframe tbody tr th:only-of-type {\n",
       "        vertical-align: middle;\n",
       "    }\n",
       "\n",
       "    .dataframe tbody tr th {\n",
       "        vertical-align: top;\n",
       "    }\n",
       "\n",
       "    .dataframe thead th {\n",
       "        text-align: right;\n",
       "    }\n",
       "</style>\n",
       "<table border=\"1\" class=\"dataframe\">\n",
       "  <thead>\n",
       "    <tr style=\"text-align: right;\">\n",
       "      <th></th>\n",
       "      <th>Company</th>\n",
       "      <th>Fiscal_Year</th>\n",
       "      <th>Total_Revenue</th>\n",
       "      <th>Net_Income</th>\n",
       "      <th>Total_Assets</th>\n",
       "      <th>Total_Liabilities</th>\n",
       "      <th>Cash_Flow</th>\n",
       "    </tr>\n",
       "  </thead>\n",
       "  <tbody>\n",
       "    <tr>\n",
       "      <th>0</th>\n",
       "      <td>Apple</td>\n",
       "      <td>2022-23</td>\n",
       "      <td>394,328</td>\n",
       "      <td>99,803</td>\n",
       "      <td>352,755</td>\n",
       "      <td>302,083</td>\n",
       "      <td>122,151</td>\n",
       "    </tr>\n",
       "    <tr>\n",
       "      <th>1</th>\n",
       "      <td>Apple</td>\n",
       "      <td>2023-24</td>\n",
       "      <td>383,285</td>\n",
       "      <td>96,995</td>\n",
       "      <td>352,583</td>\n",
       "      <td>306,278</td>\n",
       "      <td>110,540</td>\n",
       "    </tr>\n",
       "    <tr>\n",
       "      <th>2</th>\n",
       "      <td>Apple</td>\n",
       "      <td>2024-25</td>\n",
       "      <td>391,035</td>\n",
       "      <td>93,736</td>\n",
       "      <td>364,980</td>\n",
       "      <td>314,529</td>\n",
       "      <td>115,672</td>\n",
       "    </tr>\n",
       "    <tr>\n",
       "      <th>3</th>\n",
       "      <td>Tesla</td>\n",
       "      <td>2022-23</td>\n",
       "      <td>81,462</td>\n",
       "      <td>12,556</td>\n",
       "      <td>82,343</td>\n",
       "      <td>40,953</td>\n",
       "      <td>14,724</td>\n",
       "    </tr>\n",
       "    <tr>\n",
       "      <th>4</th>\n",
       "      <td>Tesla</td>\n",
       "      <td>2023-24</td>\n",
       "      <td>94028</td>\n",
       "      <td>15001</td>\n",
       "      <td>90231</td>\n",
       "      <td>42187</td>\n",
       "      <td>16564</td>\n",
       "    </tr>\n",
       "    <tr>\n",
       "      <th>5</th>\n",
       "      <td>Tesla</td>\n",
       "      <td>2024-25</td>\n",
       "      <td>101276</td>\n",
       "      <td>17894</td>\n",
       "      <td>98543</td>\n",
       "      <td>45612</td>\n",
       "      <td>18203</td>\n",
       "    </tr>\n",
       "    <tr>\n",
       "      <th>6</th>\n",
       "      <td>Microsoft</td>\n",
       "      <td>2022-23</td>\n",
       "      <td>198270</td>\n",
       "      <td>72738</td>\n",
       "      <td>364840</td>\n",
       "      <td>198320</td>\n",
       "      <td>89034</td>\n",
       "    </tr>\n",
       "    <tr>\n",
       "      <th>7</th>\n",
       "      <td>Microsoft</td>\n",
       "      <td>2023-24</td>\n",
       "      <td>211540</td>\n",
       "      <td>79105</td>\n",
       "      <td>382125</td>\n",
       "      <td>204876</td>\n",
       "      <td>95678</td>\n",
       "    </tr>\n",
       "    <tr>\n",
       "      <th>8</th>\n",
       "      <td>Microsoft</td>\n",
       "      <td>2024-25</td>\n",
       "      <td>225380</td>\n",
       "      <td>85290</td>\n",
       "      <td>399672</td>\n",
       "      <td>213429</td>\n",
       "      <td>102345</td>\n",
       "    </tr>\n",
       "  </tbody>\n",
       "</table>\n",
       "</div>"
      ],
      "text/plain": [
       "     Company Fiscal_Year Total_Revenue Net_Income Total_Assets  \\\n",
       "0      Apple     2022-23       394,328     99,803      352,755   \n",
       "1      Apple     2023-24       383,285     96,995      352,583   \n",
       "2      Apple     2024-25       391,035     93,736      364,980   \n",
       "3      Tesla     2022-23        81,462     12,556       82,343   \n",
       "4      Tesla     2023-24         94028      15001        90231   \n",
       "5      Tesla     2024-25        101276      17894        98543   \n",
       "6  Microsoft     2022-23        198270      72738       364840   \n",
       "7  Microsoft     2023-24        211540      79105       382125   \n",
       "8  Microsoft     2024-25        225380      85290       399672   \n",
       "\n",
       "  Total_Liabilities Cash_Flow  \n",
       "0           302,083   122,151  \n",
       "1           306,278   110,540  \n",
       "2           314,529   115,672  \n",
       "3            40,953    14,724  \n",
       "4             42187     16564  \n",
       "5             45612     18203  \n",
       "6            198320     89034  \n",
       "7            204876     95678  \n",
       "8            213429    102345  "
      ]
     },
     "execution_count": 5,
     "metadata": {},
     "output_type": "execute_result"
    }
   ],
   "source": [
    "df = pd.read_csv('BCGX Financial Data Analysis.csv') \n",
    "'''The values are in million dollars'''\n",
    "df"
   ]
  },
  {
   "cell_type": "code",
   "execution_count": 6,
   "id": "81587393-1f78-4987-bd47-dd1a14d48e9c",
   "metadata": {},
   "outputs": [],
   "source": [
    "# Convert financial columns to numeric, handling commas if present\n",
    "columns_to_convert = [\"Total_Revenue\", \"Net_Income\", \"Total_Assets\", \"Total_Liabilities\", \"Cash_Flow\"]\n",
    "\n",
    "for col in columns_to_convert:\n",
    "    df[col] = df[col].str.replace(\",\", \"\").astype(float)"
   ]
  },
  {
   "cell_type": "markdown",
   "id": "60bcbf8a-28e7-4be8-add7-30d9b937a46e",
   "metadata": {
    "jp-MarkdownHeadingCollapsed": true
   },
   "source": [
    "### Year-over-Year Average Growth Rates (%)"
   ]
  },
  {
   "cell_type": "code",
   "execution_count": 8,
   "id": "0a3cd6d8-7599-4945-9d32-a06363d5760d",
   "metadata": {},
   "outputs": [],
   "source": [
    "# Calculate growth percentages\n",
    "df[\"Revenue_Growth_%\"] = df.groupby(\"Company\")[\"Total_Revenue\"].pct_change() * 100\n",
    "df[\"Net_Income_Growth_%\"] = df.groupby(\"Company\")[\"Net_Income\"].pct_change() * 100"
   ]
  },
  {
   "cell_type": "code",
   "execution_count": 9,
   "id": "299e1c6e-fa98-42d3-99aa-122e7ac9f621",
   "metadata": {},
   "outputs": [
    {
     "data": {
      "text/html": [
       "<div>\n",
       "<style scoped>\n",
       "    .dataframe tbody tr th:only-of-type {\n",
       "        vertical-align: middle;\n",
       "    }\n",
       "\n",
       "    .dataframe tbody tr th {\n",
       "        vertical-align: top;\n",
       "    }\n",
       "\n",
       "    .dataframe thead th {\n",
       "        text-align: right;\n",
       "    }\n",
       "</style>\n",
       "<table border=\"1\" class=\"dataframe\">\n",
       "  <thead>\n",
       "    <tr style=\"text-align: right;\">\n",
       "      <th></th>\n",
       "      <th>Company</th>\n",
       "      <th>Fiscal_Year</th>\n",
       "      <th>Revenue_Growth_%</th>\n",
       "      <th>Net_Income_Growth_%</th>\n",
       "    </tr>\n",
       "  </thead>\n",
       "  <tbody>\n",
       "    <tr>\n",
       "      <th>0</th>\n",
       "      <td>Apple</td>\n",
       "      <td>2022-23</td>\n",
       "      <td>NaN</td>\n",
       "      <td>NaN</td>\n",
       "    </tr>\n",
       "    <tr>\n",
       "      <th>1</th>\n",
       "      <td>Apple</td>\n",
       "      <td>2023-24</td>\n",
       "      <td>-2.800461</td>\n",
       "      <td>-2.813543</td>\n",
       "    </tr>\n",
       "    <tr>\n",
       "      <th>2</th>\n",
       "      <td>Apple</td>\n",
       "      <td>2024-25</td>\n",
       "      <td>2.021994</td>\n",
       "      <td>-3.359967</td>\n",
       "    </tr>\n",
       "    <tr>\n",
       "      <th>3</th>\n",
       "      <td>Tesla</td>\n",
       "      <td>2022-23</td>\n",
       "      <td>NaN</td>\n",
       "      <td>NaN</td>\n",
       "    </tr>\n",
       "    <tr>\n",
       "      <th>4</th>\n",
       "      <td>Tesla</td>\n",
       "      <td>2023-24</td>\n",
       "      <td>15.425597</td>\n",
       "      <td>19.472762</td>\n",
       "    </tr>\n",
       "    <tr>\n",
       "      <th>5</th>\n",
       "      <td>Tesla</td>\n",
       "      <td>2024-25</td>\n",
       "      <td>7.708342</td>\n",
       "      <td>19.285381</td>\n",
       "    </tr>\n",
       "    <tr>\n",
       "      <th>6</th>\n",
       "      <td>Microsoft</td>\n",
       "      <td>2022-23</td>\n",
       "      <td>NaN</td>\n",
       "      <td>NaN</td>\n",
       "    </tr>\n",
       "    <tr>\n",
       "      <th>7</th>\n",
       "      <td>Microsoft</td>\n",
       "      <td>2023-24</td>\n",
       "      <td>6.692894</td>\n",
       "      <td>8.753334</td>\n",
       "    </tr>\n",
       "    <tr>\n",
       "      <th>8</th>\n",
       "      <td>Microsoft</td>\n",
       "      <td>2024-25</td>\n",
       "      <td>6.542498</td>\n",
       "      <td>7.818722</td>\n",
       "    </tr>\n",
       "  </tbody>\n",
       "</table>\n",
       "</div>"
      ],
      "text/plain": [
       "     Company Fiscal_Year  Revenue_Growth_%  Net_Income_Growth_%\n",
       "0      Apple     2022-23               NaN                  NaN\n",
       "1      Apple     2023-24         -2.800461            -2.813543\n",
       "2      Apple     2024-25          2.021994            -3.359967\n",
       "3      Tesla     2022-23               NaN                  NaN\n",
       "4      Tesla     2023-24         15.425597            19.472762\n",
       "5      Tesla     2024-25          7.708342            19.285381\n",
       "6  Microsoft     2022-23               NaN                  NaN\n",
       "7  Microsoft     2023-24          6.692894             8.753334\n",
       "8  Microsoft     2024-25          6.542498             7.818722"
      ]
     },
     "execution_count": 9,
     "metadata": {},
     "output_type": "execute_result"
    }
   ],
   "source": [
    "df[[\"Company\", \"Fiscal_Year\",\"Revenue_Growth_%\",\"Net_Income_Growth_%\"]]"
   ]
  },
  {
   "cell_type": "markdown",
   "id": "4f17d391-18db-436c-98a1-3993a2f1c73d",
   "metadata": {},
   "source": [
    "The NaN values appear in the Revenue_Growth_% and Net_Income_Growth_% columns for the first year of each company because there is no previous year to calculate the percentage change."
   ]
  },
  {
   "cell_type": "code",
   "execution_count": 11,
   "id": "a1222830-9561-49cd-8eae-f9d9762eb708",
   "metadata": {},
   "outputs": [
    {
     "data": {
      "text/html": [
       "<div>\n",
       "<style scoped>\n",
       "    .dataframe tbody tr th:only-of-type {\n",
       "        vertical-align: middle;\n",
       "    }\n",
       "\n",
       "    .dataframe tbody tr th {\n",
       "        vertical-align: top;\n",
       "    }\n",
       "\n",
       "    .dataframe thead th {\n",
       "        text-align: right;\n",
       "    }\n",
       "</style>\n",
       "<table border=\"1\" class=\"dataframe\">\n",
       "  <thead>\n",
       "    <tr style=\"text-align: right;\">\n",
       "      <th></th>\n",
       "      <th>Company</th>\n",
       "      <th>Fiscal_Year</th>\n",
       "      <th>Revenue_Growth_%</th>\n",
       "      <th>Net_Income_Growth_%</th>\n",
       "    </tr>\n",
       "  </thead>\n",
       "  <tbody>\n",
       "    <tr>\n",
       "      <th>0</th>\n",
       "      <td>Apple</td>\n",
       "      <td>2022-23</td>\n",
       "      <td>0.000000</td>\n",
       "      <td>0.000000</td>\n",
       "    </tr>\n",
       "    <tr>\n",
       "      <th>1</th>\n",
       "      <td>Apple</td>\n",
       "      <td>2023-24</td>\n",
       "      <td>-2.800461</td>\n",
       "      <td>-2.813543</td>\n",
       "    </tr>\n",
       "    <tr>\n",
       "      <th>2</th>\n",
       "      <td>Apple</td>\n",
       "      <td>2024-25</td>\n",
       "      <td>2.021994</td>\n",
       "      <td>-3.359967</td>\n",
       "    </tr>\n",
       "    <tr>\n",
       "      <th>3</th>\n",
       "      <td>Tesla</td>\n",
       "      <td>2022-23</td>\n",
       "      <td>0.000000</td>\n",
       "      <td>0.000000</td>\n",
       "    </tr>\n",
       "    <tr>\n",
       "      <th>4</th>\n",
       "      <td>Tesla</td>\n",
       "      <td>2023-24</td>\n",
       "      <td>15.425597</td>\n",
       "      <td>19.472762</td>\n",
       "    </tr>\n",
       "    <tr>\n",
       "      <th>5</th>\n",
       "      <td>Tesla</td>\n",
       "      <td>2024-25</td>\n",
       "      <td>7.708342</td>\n",
       "      <td>19.285381</td>\n",
       "    </tr>\n",
       "    <tr>\n",
       "      <th>6</th>\n",
       "      <td>Microsoft</td>\n",
       "      <td>2022-23</td>\n",
       "      <td>0.000000</td>\n",
       "      <td>0.000000</td>\n",
       "    </tr>\n",
       "    <tr>\n",
       "      <th>7</th>\n",
       "      <td>Microsoft</td>\n",
       "      <td>2023-24</td>\n",
       "      <td>6.692894</td>\n",
       "      <td>8.753334</td>\n",
       "    </tr>\n",
       "    <tr>\n",
       "      <th>8</th>\n",
       "      <td>Microsoft</td>\n",
       "      <td>2024-25</td>\n",
       "      <td>6.542498</td>\n",
       "      <td>7.818722</td>\n",
       "    </tr>\n",
       "  </tbody>\n",
       "</table>\n",
       "</div>"
      ],
      "text/plain": [
       "     Company Fiscal_Year  Revenue_Growth_%  Net_Income_Growth_%\n",
       "0      Apple     2022-23          0.000000             0.000000\n",
       "1      Apple     2023-24         -2.800461            -2.813543\n",
       "2      Apple     2024-25          2.021994            -3.359967\n",
       "3      Tesla     2022-23          0.000000             0.000000\n",
       "4      Tesla     2023-24         15.425597            19.472762\n",
       "5      Tesla     2024-25          7.708342            19.285381\n",
       "6  Microsoft     2022-23          0.000000             0.000000\n",
       "7  Microsoft     2023-24          6.692894             8.753334\n",
       "8  Microsoft     2024-25          6.542498             7.818722"
      ]
     },
     "execution_count": 11,
     "metadata": {},
     "output_type": "execute_result"
    }
   ],
   "source": [
    "# Fill NA values that result from pct_change calculations with 0 or an appropriate value\n",
    "df.fillna(0, inplace=True)\n",
    "df[[\"Company\", \"Fiscal_Year\",\"Revenue_Growth_%\",\"Net_Income_Growth_%\"]]"
   ]
  },
  {
   "cell_type": "code",
   "execution_count": 12,
   "id": "ffc4efb4-5dec-4f97-b1d4-a80642ce37f3",
   "metadata": {},
   "outputs": [
    {
     "name": "stdout",
     "output_type": "stream",
     "text": [
      "Year-over-Year Average Growth Rates (%):\n",
      "     Company  Revenue_Growth_%  Net_Income_Growth_%\n",
      "0      Apple         -0.259489            -2.057837\n",
      "1  Microsoft          4.411797             5.524019\n",
      "2      Tesla          7.711313            12.919381\n"
     ]
    }
   ],
   "source": [
    "# Summarized findings for each company\n",
    "summary = df.groupby('Company').agg({\n",
    "    'Revenue_Growth_%': 'mean',\n",
    "    'Net_Income_Growth_%': 'mean'\n",
    "}).reset_index()\n",
    "\n",
    "print(\"Year-over-Year Average Growth Rates (%):\")\n",
    "print(summary)"
   ]
  },
  {
   "cell_type": "markdown",
   "id": "1042a393-5932-455d-b9f4-44c71e0137be",
   "metadata": {
    "jp-MarkdownHeadingCollapsed": true
   },
   "source": [
    "### Profitability Ratios"
   ]
  },
  {
   "cell_type": "code",
   "execution_count": 14,
   "id": "97b3db4c-951c-40ea-b53e-cb3cf8946a35",
   "metadata": {},
   "outputs": [
    {
     "data": {
      "text/html": [
       "<div>\n",
       "<style scoped>\n",
       "    .dataframe tbody tr th:only-of-type {\n",
       "        vertical-align: middle;\n",
       "    }\n",
       "\n",
       "    .dataframe tbody tr th {\n",
       "        vertical-align: top;\n",
       "    }\n",
       "\n",
       "    .dataframe thead th {\n",
       "        text-align: right;\n",
       "    }\n",
       "</style>\n",
       "<table border=\"1\" class=\"dataframe\">\n",
       "  <thead>\n",
       "    <tr style=\"text-align: right;\">\n",
       "      <th></th>\n",
       "      <th>Company</th>\n",
       "      <th>Fiscal_Year</th>\n",
       "      <th>Net_Profit_Margin_%</th>\n",
       "    </tr>\n",
       "  </thead>\n",
       "  <tbody>\n",
       "    <tr>\n",
       "      <th>0</th>\n",
       "      <td>Apple</td>\n",
       "      <td>2022-23</td>\n",
       "      <td>25.309641</td>\n",
       "    </tr>\n",
       "    <tr>\n",
       "      <th>1</th>\n",
       "      <td>Apple</td>\n",
       "      <td>2023-24</td>\n",
       "      <td>25.306234</td>\n",
       "    </tr>\n",
       "    <tr>\n",
       "      <th>2</th>\n",
       "      <td>Apple</td>\n",
       "      <td>2024-25</td>\n",
       "      <td>23.971256</td>\n",
       "    </tr>\n",
       "    <tr>\n",
       "      <th>3</th>\n",
       "      <td>Tesla</td>\n",
       "      <td>2022-23</td>\n",
       "      <td>15.413322</td>\n",
       "    </tr>\n",
       "    <tr>\n",
       "      <th>4</th>\n",
       "      <td>Tesla</td>\n",
       "      <td>2023-24</td>\n",
       "      <td>15.953758</td>\n",
       "    </tr>\n",
       "    <tr>\n",
       "      <th>5</th>\n",
       "      <td>Tesla</td>\n",
       "      <td>2024-25</td>\n",
       "      <td>17.668549</td>\n",
       "    </tr>\n",
       "    <tr>\n",
       "      <th>6</th>\n",
       "      <td>Microsoft</td>\n",
       "      <td>2022-23</td>\n",
       "      <td>36.686337</td>\n",
       "    </tr>\n",
       "    <tr>\n",
       "      <th>7</th>\n",
       "      <td>Microsoft</td>\n",
       "      <td>2023-24</td>\n",
       "      <td>37.394819</td>\n",
       "    </tr>\n",
       "    <tr>\n",
       "      <th>8</th>\n",
       "      <td>Microsoft</td>\n",
       "      <td>2024-25</td>\n",
       "      <td>37.842754</td>\n",
       "    </tr>\n",
       "  </tbody>\n",
       "</table>\n",
       "</div>"
      ],
      "text/plain": [
       "     Company Fiscal_Year  Net_Profit_Margin_%\n",
       "0      Apple     2022-23            25.309641\n",
       "1      Apple     2023-24            25.306234\n",
       "2      Apple     2024-25            23.971256\n",
       "3      Tesla     2022-23            15.413322\n",
       "4      Tesla     2023-24            15.953758\n",
       "5      Tesla     2024-25            17.668549\n",
       "6  Microsoft     2022-23            36.686337\n",
       "7  Microsoft     2023-24            37.394819\n",
       "8  Microsoft     2024-25            37.842754"
      ]
     },
     "execution_count": 14,
     "metadata": {},
     "output_type": "execute_result"
    }
   ],
   "source": [
    "df[\"Net_Profit_Margin_%\"] = (df[\"Net_Income\"] / df[\"Total_Revenue\"]) * 100\n",
    "df.groupby(\"Company\")[\"Net_Profit_Margin_%\"].mean()\n",
    "df[[\"Company\", \"Fiscal_Year\",\"Net_Profit_Margin_%\"]]"
   ]
  },
  {
   "cell_type": "markdown",
   "id": "0b464d7d-a531-46f8-98bb-7de805ffc04d",
   "metadata": {
    "jp-MarkdownHeadingCollapsed": true
   },
   "source": [
    "### Debt-to-Asset Ratio (Financial Stability)"
   ]
  },
  {
   "cell_type": "code",
   "execution_count": 16,
   "id": "8cbdb69b-eac0-44f4-8278-c10f3aa1ca2e",
   "metadata": {},
   "outputs": [
    {
     "data": {
      "text/html": [
       "<div>\n",
       "<style scoped>\n",
       "    .dataframe tbody tr th:only-of-type {\n",
       "        vertical-align: middle;\n",
       "    }\n",
       "\n",
       "    .dataframe tbody tr th {\n",
       "        vertical-align: top;\n",
       "    }\n",
       "\n",
       "    .dataframe thead th {\n",
       "        text-align: right;\n",
       "    }\n",
       "</style>\n",
       "<table border=\"1\" class=\"dataframe\">\n",
       "  <thead>\n",
       "    <tr style=\"text-align: right;\">\n",
       "      <th></th>\n",
       "      <th>Company</th>\n",
       "      <th>Fiscal_Year</th>\n",
       "      <th>Debt_to_Asset_Ratio</th>\n",
       "    </tr>\n",
       "  </thead>\n",
       "  <tbody>\n",
       "    <tr>\n",
       "      <th>0</th>\n",
       "      <td>Apple</td>\n",
       "      <td>2022-23</td>\n",
       "      <td>0.856354</td>\n",
       "    </tr>\n",
       "    <tr>\n",
       "      <th>1</th>\n",
       "      <td>Apple</td>\n",
       "      <td>2023-24</td>\n",
       "      <td>0.868669</td>\n",
       "    </tr>\n",
       "    <tr>\n",
       "      <th>2</th>\n",
       "      <td>Apple</td>\n",
       "      <td>2024-25</td>\n",
       "      <td>0.861771</td>\n",
       "    </tr>\n",
       "    <tr>\n",
       "      <th>3</th>\n",
       "      <td>Tesla</td>\n",
       "      <td>2022-23</td>\n",
       "      <td>0.497346</td>\n",
       "    </tr>\n",
       "    <tr>\n",
       "      <th>4</th>\n",
       "      <td>Tesla</td>\n",
       "      <td>2023-24</td>\n",
       "      <td>0.467544</td>\n",
       "    </tr>\n",
       "    <tr>\n",
       "      <th>5</th>\n",
       "      <td>Tesla</td>\n",
       "      <td>2024-25</td>\n",
       "      <td>0.462864</td>\n",
       "    </tr>\n",
       "    <tr>\n",
       "      <th>6</th>\n",
       "      <td>Microsoft</td>\n",
       "      <td>2022-23</td>\n",
       "      <td>0.543581</td>\n",
       "    </tr>\n",
       "    <tr>\n",
       "      <th>7</th>\n",
       "      <td>Microsoft</td>\n",
       "      <td>2023-24</td>\n",
       "      <td>0.536149</td>\n",
       "    </tr>\n",
       "    <tr>\n",
       "      <th>8</th>\n",
       "      <td>Microsoft</td>\n",
       "      <td>2024-25</td>\n",
       "      <td>0.534010</td>\n",
       "    </tr>\n",
       "  </tbody>\n",
       "</table>\n",
       "</div>"
      ],
      "text/plain": [
       "     Company Fiscal_Year  Debt_to_Asset_Ratio\n",
       "0      Apple     2022-23             0.856354\n",
       "1      Apple     2023-24             0.868669\n",
       "2      Apple     2024-25             0.861771\n",
       "3      Tesla     2022-23             0.497346\n",
       "4      Tesla     2023-24             0.467544\n",
       "5      Tesla     2024-25             0.462864\n",
       "6  Microsoft     2022-23             0.543581\n",
       "7  Microsoft     2023-24             0.536149\n",
       "8  Microsoft     2024-25             0.534010"
      ]
     },
     "execution_count": 16,
     "metadata": {},
     "output_type": "execute_result"
    }
   ],
   "source": [
    "df[\"Debt_to_Asset_Ratio\"] = df[\"Total_Liabilities\"] / df[\"Total_Assets\"]\n",
    "df[[\"Company\", \"Fiscal_Year\",\"Debt_to_Asset_Ratio\"]]"
   ]
  },
  {
   "cell_type": "markdown",
   "id": "a04f8f0f-3c58-49c4-845a-a8641df8227d",
   "metadata": {
    "jp-MarkdownHeadingCollapsed": true
   },
   "source": [
    "### Cash Flow Analysis"
   ]
  },
  {
   "cell_type": "code",
   "execution_count": 18,
   "id": "d3e02728-fa2d-4fed-9e13-aac3a29e570b",
   "metadata": {},
   "outputs": [
    {
     "data": {
      "text/plain": [
       "Company\n",
       "Apple        29.799382\n",
       "Microsoft    45.181559\n",
       "Tesla        17.888124\n",
       "Name: Cash_Flow_to_Revenue_%, dtype: float64"
      ]
     },
     "execution_count": 18,
     "metadata": {},
     "output_type": "execute_result"
    }
   ],
   "source": [
    "df[\"Cash_Flow_to_Revenue_%\"] = (df[\"Cash_Flow\"] / df[\"Total_Revenue\"]) * 100\n",
    "df.groupby(\"Company\")[\"Cash_Flow_to_Revenue_%\"].mean()"
   ]
  },
  {
   "cell_type": "markdown",
   "id": "45903618-5b54-4431-8be2-1742b4ce5476",
   "metadata": {
    "jp-MarkdownHeadingCollapsed": true
   },
   "source": [
    "### Identifying the Most Profitable Year per Company"
   ]
  },
  {
   "cell_type": "code",
   "execution_count": 20,
   "id": "68629ed5-52b0-4e11-9c04-5332260f483a",
   "metadata": {},
   "outputs": [
    {
     "data": {
      "text/html": [
       "<div>\n",
       "<style scoped>\n",
       "    .dataframe tbody tr th:only-of-type {\n",
       "        vertical-align: middle;\n",
       "    }\n",
       "\n",
       "    .dataframe tbody tr th {\n",
       "        vertical-align: top;\n",
       "    }\n",
       "\n",
       "    .dataframe thead th {\n",
       "        text-align: right;\n",
       "    }\n",
       "</style>\n",
       "<table border=\"1\" class=\"dataframe\">\n",
       "  <thead>\n",
       "    <tr style=\"text-align: right;\">\n",
       "      <th></th>\n",
       "      <th>Company</th>\n",
       "      <th>Fiscal_Year</th>\n",
       "      <th>Net_Income</th>\n",
       "    </tr>\n",
       "  </thead>\n",
       "  <tbody>\n",
       "    <tr>\n",
       "      <th>0</th>\n",
       "      <td>Apple</td>\n",
       "      <td>2022-23</td>\n",
       "      <td>99803.0</td>\n",
       "    </tr>\n",
       "    <tr>\n",
       "      <th>8</th>\n",
       "      <td>Microsoft</td>\n",
       "      <td>2024-25</td>\n",
       "      <td>85290.0</td>\n",
       "    </tr>\n",
       "    <tr>\n",
       "      <th>5</th>\n",
       "      <td>Tesla</td>\n",
       "      <td>2024-25</td>\n",
       "      <td>17894.0</td>\n",
       "    </tr>\n",
       "  </tbody>\n",
       "</table>\n",
       "</div>"
      ],
      "text/plain": [
       "     Company Fiscal_Year  Net_Income\n",
       "0      Apple     2022-23     99803.0\n",
       "8  Microsoft     2024-25     85290.0\n",
       "5      Tesla     2024-25     17894.0"
      ]
     },
     "execution_count": 20,
     "metadata": {},
     "output_type": "execute_result"
    }
   ],
   "source": [
    "df.loc[df.groupby(\"Company\")[\"Net_Income\"].idxmax(), [\"Company\", \"Fiscal_Year\", \"Net_Income\"]]"
   ]
  },
  {
   "cell_type": "markdown",
   "id": "f9adcde9-277d-4a41-a0b5-f7c1c936a194",
   "metadata": {
    "jp-MarkdownHeadingCollapsed": true
   },
   "source": [
    "### Identifying the Least Profitable Year per Company"
   ]
  },
  {
   "cell_type": "code",
   "execution_count": 22,
   "id": "d9527c82-5de4-45d7-ba70-9f04da3f9036",
   "metadata": {},
   "outputs": [
    {
     "data": {
      "text/html": [
       "<div>\n",
       "<style scoped>\n",
       "    .dataframe tbody tr th:only-of-type {\n",
       "        vertical-align: middle;\n",
       "    }\n",
       "\n",
       "    .dataframe tbody tr th {\n",
       "        vertical-align: top;\n",
       "    }\n",
       "\n",
       "    .dataframe thead th {\n",
       "        text-align: right;\n",
       "    }\n",
       "</style>\n",
       "<table border=\"1\" class=\"dataframe\">\n",
       "  <thead>\n",
       "    <tr style=\"text-align: right;\">\n",
       "      <th></th>\n",
       "      <th>Company</th>\n",
       "      <th>Fiscal_Year</th>\n",
       "      <th>Net_Income</th>\n",
       "    </tr>\n",
       "  </thead>\n",
       "  <tbody>\n",
       "    <tr>\n",
       "      <th>2</th>\n",
       "      <td>Apple</td>\n",
       "      <td>2024-25</td>\n",
       "      <td>93736.0</td>\n",
       "    </tr>\n",
       "    <tr>\n",
       "      <th>6</th>\n",
       "      <td>Microsoft</td>\n",
       "      <td>2022-23</td>\n",
       "      <td>72738.0</td>\n",
       "    </tr>\n",
       "    <tr>\n",
       "      <th>3</th>\n",
       "      <td>Tesla</td>\n",
       "      <td>2022-23</td>\n",
       "      <td>12556.0</td>\n",
       "    </tr>\n",
       "  </tbody>\n",
       "</table>\n",
       "</div>"
      ],
      "text/plain": [
       "     Company Fiscal_Year  Net_Income\n",
       "2      Apple     2024-25     93736.0\n",
       "6  Microsoft     2022-23     72738.0\n",
       "3      Tesla     2022-23     12556.0"
      ]
     },
     "execution_count": 22,
     "metadata": {},
     "output_type": "execute_result"
    }
   ],
   "source": [
    "df.loc[df.groupby(\"Company\")[\"Net_Income\"].idxmin(), [\"Company\", \"Fiscal_Year\", \"Net_Income\"]]"
   ]
  },
  {
   "cell_type": "markdown",
   "id": "e430c860-5123-4333-aade-409069c03f29",
   "metadata": {},
   "source": [
    "### Revenue Contribution by Company Over Time"
   ]
  },
  {
   "cell_type": "code",
   "execution_count": 24,
   "id": "29350949-bfe7-499f-9bdd-b5cf1775f60c",
   "metadata": {},
   "outputs": [
    {
     "data": {
      "text/html": [
       "<div>\n",
       "<style scoped>\n",
       "    .dataframe tbody tr th:only-of-type {\n",
       "        vertical-align: middle;\n",
       "    }\n",
       "\n",
       "    .dataframe tbody tr th {\n",
       "        vertical-align: top;\n",
       "    }\n",
       "\n",
       "    .dataframe thead th {\n",
       "        text-align: right;\n",
       "    }\n",
       "</style>\n",
       "<table border=\"1\" class=\"dataframe\">\n",
       "  <thead>\n",
       "    <tr style=\"text-align: right;\">\n",
       "      <th>Company</th>\n",
       "      <th>Apple</th>\n",
       "      <th>Microsoft</th>\n",
       "      <th>Tesla</th>\n",
       "    </tr>\n",
       "    <tr>\n",
       "      <th>Fiscal_Year</th>\n",
       "      <th></th>\n",
       "      <th></th>\n",
       "      <th></th>\n",
       "    </tr>\n",
       "  </thead>\n",
       "  <tbody>\n",
       "    <tr>\n",
       "      <th>2022-23</th>\n",
       "      <td>394328.0</td>\n",
       "      <td>198270.0</td>\n",
       "      <td>81462.0</td>\n",
       "    </tr>\n",
       "    <tr>\n",
       "      <th>2023-24</th>\n",
       "      <td>383285.0</td>\n",
       "      <td>211540.0</td>\n",
       "      <td>94028.0</td>\n",
       "    </tr>\n",
       "    <tr>\n",
       "      <th>2024-25</th>\n",
       "      <td>391035.0</td>\n",
       "      <td>225380.0</td>\n",
       "      <td>101276.0</td>\n",
       "    </tr>\n",
       "  </tbody>\n",
       "</table>\n",
       "</div>"
      ],
      "text/plain": [
       "Company         Apple  Microsoft     Tesla\n",
       "Fiscal_Year                               \n",
       "2022-23      394328.0   198270.0   81462.0\n",
       "2023-24      383285.0   211540.0   94028.0\n",
       "2024-25      391035.0   225380.0  101276.0"
      ]
     },
     "execution_count": 24,
     "metadata": {},
     "output_type": "execute_result"
    }
   ],
   "source": [
    "df.pivot_table(index=\"Fiscal_Year\", columns=\"Company\", values=\"Total_Revenue\", aggfunc=\"sum\")"
   ]
  },
  {
   "cell_type": "markdown",
   "id": "f5fb509a-77dc-4ea9-8519-904f8387a30e",
   "metadata": {
    "jp-MarkdownHeadingCollapsed": true
   },
   "source": [
    "# Company wise Analysis"
   ]
  },
  {
   "cell_type": "markdown",
   "id": "535a42d4-a9dd-458e-b5da-391f8f178307",
   "metadata": {
    "jp-MarkdownHeadingCollapsed": true
   },
   "source": [
    "### 1. Apple Analysis"
   ]
  },
  {
   "cell_type": "code",
   "execution_count": 27,
   "id": "6b9ba223-4c89-4216-860a-73bf31cb174a",
   "metadata": {},
   "outputs": [
    {
     "data": {
      "text/html": [
       "<div>\n",
       "<style scoped>\n",
       "    .dataframe tbody tr th:only-of-type {\n",
       "        vertical-align: middle;\n",
       "    }\n",
       "\n",
       "    .dataframe tbody tr th {\n",
       "        vertical-align: top;\n",
       "    }\n",
       "\n",
       "    .dataframe thead th {\n",
       "        text-align: right;\n",
       "    }\n",
       "</style>\n",
       "<table border=\"1\" class=\"dataframe\">\n",
       "  <thead>\n",
       "    <tr style=\"text-align: right;\">\n",
       "      <th></th>\n",
       "      <th>Total_Revenue</th>\n",
       "      <th>Net_Income</th>\n",
       "      <th>Total_Assets</th>\n",
       "      <th>Total_Liabilities</th>\n",
       "      <th>Cash_Flow</th>\n",
       "    </tr>\n",
       "  </thead>\n",
       "  <tbody>\n",
       "    <tr>\n",
       "      <th>mean</th>\n",
       "      <td>389549.333333</td>\n",
       "      <td>96844.666667</td>\n",
       "      <td>356772.666667</td>\n",
       "      <td>307630.0</td>\n",
       "      <td>116121.0</td>\n",
       "    </tr>\n",
       "    <tr>\n",
       "      <th>median</th>\n",
       "      <td>391035.000000</td>\n",
       "      <td>96995.000000</td>\n",
       "      <td>352755.000000</td>\n",
       "      <td>306278.0</td>\n",
       "      <td>115672.0</td>\n",
       "    </tr>\n",
       "    <tr>\n",
       "      <th>min</th>\n",
       "      <td>383285.000000</td>\n",
       "      <td>93736.000000</td>\n",
       "      <td>352583.000000</td>\n",
       "      <td>302083.0</td>\n",
       "      <td>110540.0</td>\n",
       "    </tr>\n",
       "    <tr>\n",
       "      <th>max</th>\n",
       "      <td>394328.000000</td>\n",
       "      <td>99803.000000</td>\n",
       "      <td>364980.000000</td>\n",
       "      <td>314529.0</td>\n",
       "      <td>122151.0</td>\n",
       "    </tr>\n",
       "    <tr>\n",
       "      <th>std</th>\n",
       "      <td>5669.423810</td>\n",
       "      <td>3036.292531</td>\n",
       "      <td>NaN</td>\n",
       "      <td>NaN</td>\n",
       "      <td>NaN</td>\n",
       "    </tr>\n",
       "  </tbody>\n",
       "</table>\n",
       "</div>"
      ],
      "text/plain": [
       "        Total_Revenue    Net_Income   Total_Assets  Total_Liabilities  \\\n",
       "mean    389549.333333  96844.666667  356772.666667           307630.0   \n",
       "median  391035.000000  96995.000000  352755.000000           306278.0   \n",
       "min     383285.000000  93736.000000  352583.000000           302083.0   \n",
       "max     394328.000000  99803.000000  364980.000000           314529.0   \n",
       "std       5669.423810   3036.292531            NaN                NaN   \n",
       "\n",
       "        Cash_Flow  \n",
       "mean     116121.0  \n",
       "median   115672.0  \n",
       "min      110540.0  \n",
       "max      122151.0  \n",
       "std           NaN  "
      ]
     },
     "execution_count": 27,
     "metadata": {},
     "output_type": "execute_result"
    }
   ],
   "source": [
    "apple_df = df[df[\"Company\"] == \"Apple\"]\n",
    "\n",
    "apple_summary = apple_df.agg({\n",
    "    \"Total_Revenue\": [\"mean\", \"median\", \"min\", \"max\", \"std\"],\n",
    "    \"Net_Income\": [\"mean\", \"median\", \"min\", \"max\", \"std\"],\n",
    "    \"Total_Assets\": [\"mean\", \"median\", \"min\", \"max\"],\n",
    "    \"Total_Liabilities\": [\"mean\", \"median\", \"min\", \"max\"],\n",
    "    \"Cash_Flow\": [\"mean\", \"median\", \"min\", \"max\"]\n",
    "})\n",
    "apple_summary"
   ]
  },
  {
   "cell_type": "code",
   "execution_count": 28,
   "id": "5a143fdc-7ef2-4f2f-9572-bc2944751c35",
   "metadata": {},
   "outputs": [
    {
     "data": {
      "image/png": "[encoded data removed]",
      "text/plain": [
       "<Figure size 800x300 with 1 Axes>"
      ]
     },
     "metadata": {},
     "output_type": "display_data"
    }
   ],
   "source": [
    "import matplotlib.pyplot as plt\n",
    "import seaborn as sns\n",
    "\n",
    "plt.figure(figsize=(8, 3))\n",
    "sns.lineplot(data=apple_df, x=\"Fiscal_Year\", y=\"Total_Revenue\", marker=\"o\", label=\"Revenue\")\n",
    "sns.lineplot(data=apple_df, x=\"Fiscal_Year\", y=\"Net_Income\", marker=\"s\", label=\"Net Income\")\n",
    "plt.title(\"Apple Financial Trends\")\n",
    "plt.legend()\n",
    "plt.xticks(rotation=45)\n",
    "plt.show()"
   ]
  },
  {
   "cell_type": "markdown",
   "id": "515fa5df-21ca-49bf-8637-af0c111553fa",
   "metadata": {},
   "source": [
    "### 2. Tesla Analysis"
   ]
  },
  {
   "cell_type": "code",
   "execution_count": 30,
   "id": "dd88c3d6-e921-42a5-8dfd-00bf1cda9259",
   "metadata": {},
   "outputs": [
    {
     "data": {
      "text/html": [
       "<div>\n",
       "<style scoped>\n",
       "    .dataframe tbody tr th:only-of-type {\n",
       "        vertical-align: middle;\n",
       "    }\n",
       "\n",
       "    .dataframe tbody tr th {\n",
       "        vertical-align: top;\n",
       "    }\n",
       "\n",
       "    .dataframe thead th {\n",
       "        text-align: right;\n",
       "    }\n",
       "</style>\n",
       "<table border=\"1\" class=\"dataframe\">\n",
       "  <thead>\n",
       "    <tr style=\"text-align: right;\">\n",
       "      <th></th>\n",
       "      <th>Total_Revenue</th>\n",
       "      <th>Net_Income</th>\n",
       "      <th>Total_Assets</th>\n",
       "      <th>Total_Liabilities</th>\n",
       "      <th>Cash_Flow</th>\n",
       "    </tr>\n",
       "  </thead>\n",
       "  <tbody>\n",
       "    <tr>\n",
       "      <th>mean</th>\n",
       "      <td>92255.333333</td>\n",
       "      <td>15150.333333</td>\n",
       "      <td>90372.333333</td>\n",
       "      <td>42917.333333</td>\n",
       "      <td>16497.0</td>\n",
       "    </tr>\n",
       "    <tr>\n",
       "      <th>median</th>\n",
       "      <td>94028.000000</td>\n",
       "      <td>15001.000000</td>\n",
       "      <td>90231.000000</td>\n",
       "      <td>42187.000000</td>\n",
       "      <td>16564.0</td>\n",
       "    </tr>\n",
       "    <tr>\n",
       "      <th>min</th>\n",
       "      <td>81462.000000</td>\n",
       "      <td>12556.000000</td>\n",
       "      <td>82343.000000</td>\n",
       "      <td>40953.000000</td>\n",
       "      <td>14724.0</td>\n",
       "    </tr>\n",
       "    <tr>\n",
       "      <th>max</th>\n",
       "      <td>101276.000000</td>\n",
       "      <td>17894.000000</td>\n",
       "      <td>98543.000000</td>\n",
       "      <td>45612.000000</td>\n",
       "      <td>18203.0</td>\n",
       "    </tr>\n",
       "    <tr>\n",
       "      <th>std</th>\n",
       "      <td>10025.238617</td>\n",
       "      <td>2672.131421</td>\n",
       "      <td>NaN</td>\n",
       "      <td>NaN</td>\n",
       "      <td>NaN</td>\n",
       "    </tr>\n",
       "  </tbody>\n",
       "</table>\n",
       "</div>"
      ],
      "text/plain": [
       "        Total_Revenue    Net_Income  Total_Assets  Total_Liabilities  \\\n",
       "mean     92255.333333  15150.333333  90372.333333       42917.333333   \n",
       "median   94028.000000  15001.000000  90231.000000       42187.000000   \n",
       "min      81462.000000  12556.000000  82343.000000       40953.000000   \n",
       "max     101276.000000  17894.000000  98543.000000       45612.000000   \n",
       "std      10025.238617   2672.131421           NaN                NaN   \n",
       "\n",
       "        Cash_Flow  \n",
       "mean      16497.0  \n",
       "median    16564.0  \n",
       "min       14724.0  \n",
       "max       18203.0  \n",
       "std           NaN  "
      ]
     },
     "execution_count": 30,
     "metadata": {},
     "output_type": "execute_result"
    }
   ],
   "source": [
    "tesla_df = df[df[\"Company\"] == \"Tesla\"]\n",
    "\n",
    "tesla_summary = tesla_df.agg({\n",
    "    \"Total_Revenue\": [\"mean\", \"median\", \"min\", \"max\", \"std\"],\n",
    "    \"Net_Income\": [\"mean\", \"median\", \"min\", \"max\", \"std\"],\n",
    "    \"Total_Assets\": [\"mean\", \"median\", \"min\", \"max\"],\n",
    "    \"Total_Liabilities\": [\"mean\", \"median\", \"min\", \"max\"],\n",
    "    \"Cash_Flow\": [\"mean\", \"median\", \"min\", \"max\"]\n",
    "})\n",
    "tesla_summary"
   ]
  },
  {
   "cell_type": "code",
   "execution_count": 31,
   "id": "29f48d1c-a82c-435f-8166-0c6066833f23",
   "metadata": {},
   "outputs": [
    {
     "data": {
      "image/png": "[encoded data removed]",
      "text/plain": [
       "<Figure size 800x300 with 1 Axes>"
      ]
     },
     "metadata": {},
     "output_type": "display_data"
    }
   ],
   "source": [
    "plt.figure(figsize=(8, 3))\n",
    "sns.lineplot(data=tesla_df, x=\"Fiscal_Year\", y=\"Total_Revenue\", marker=\"o\", label=\"Revenue\")\n",
    "sns.lineplot(data=tesla_df, x=\"Fiscal_Year\", y=\"Net_Income\", marker=\"s\", label=\"Net Income\")\n",
    "plt.title(\"Tesla Financial Trends\")\n",
    "plt.legend()\n",
    "plt.xticks(rotation=45)\n",
    "plt.show()"
   ]
  },
  {
   "cell_type": "markdown",
   "id": "70b09300-f716-4df2-9bf7-382377c94fd1",
   "metadata": {},
   "source": [
    "### 3. Microsoft Analysis"
   ]
  },
  {
   "cell_type": "code",
   "execution_count": 33,
   "id": "11bcab38-86c3-4aa1-9b7e-769e7fe2f78c",
   "metadata": {},
   "outputs": [
    {
     "data": {
      "text/html": [
       "<div>\n",
       "<style scoped>\n",
       "    .dataframe tbody tr th:only-of-type {\n",
       "        vertical-align: middle;\n",
       "    }\n",
       "\n",
       "    .dataframe tbody tr th {\n",
       "        vertical-align: top;\n",
       "    }\n",
       "\n",
       "    .dataframe thead th {\n",
       "        text-align: right;\n",
       "    }\n",
       "</style>\n",
       "<table border=\"1\" class=\"dataframe\">\n",
       "  <thead>\n",
       "    <tr style=\"text-align: right;\">\n",
       "      <th></th>\n",
       "      <th>Total_Revenue</th>\n",
       "      <th>Net_Income</th>\n",
       "      <th>Total_Assets</th>\n",
       "      <th>Total_Liabilities</th>\n",
       "      <th>Cash_Flow</th>\n",
       "    </tr>\n",
       "  </thead>\n",
       "  <tbody>\n",
       "    <tr>\n",
       "      <th>mean</th>\n",
       "      <td>211730.000000</td>\n",
       "      <td>79044.333333</td>\n",
       "      <td>382212.333333</td>\n",
       "      <td>205541.666667</td>\n",
       "      <td>95685.666667</td>\n",
       "    </tr>\n",
       "    <tr>\n",
       "      <th>median</th>\n",
       "      <td>211540.000000</td>\n",
       "      <td>79105.000000</td>\n",
       "      <td>382125.000000</td>\n",
       "      <td>204876.000000</td>\n",
       "      <td>95678.000000</td>\n",
       "    </tr>\n",
       "    <tr>\n",
       "      <th>min</th>\n",
       "      <td>198270.000000</td>\n",
       "      <td>72738.000000</td>\n",
       "      <td>364840.000000</td>\n",
       "      <td>198320.000000</td>\n",
       "      <td>89034.000000</td>\n",
       "    </tr>\n",
       "    <tr>\n",
       "      <th>max</th>\n",
       "      <td>225380.000000</td>\n",
       "      <td>85290.000000</td>\n",
       "      <td>399672.000000</td>\n",
       "      <td>213429.000000</td>\n",
       "      <td>102345.000000</td>\n",
       "    </tr>\n",
       "    <tr>\n",
       "      <th>std</th>\n",
       "      <td>13555.998672</td>\n",
       "      <td>6276.219908</td>\n",
       "      <td>NaN</td>\n",
       "      <td>NaN</td>\n",
       "      <td>NaN</td>\n",
       "    </tr>\n",
       "  </tbody>\n",
       "</table>\n",
       "</div>"
      ],
      "text/plain": [
       "        Total_Revenue    Net_Income   Total_Assets  Total_Liabilities  \\\n",
       "mean    211730.000000  79044.333333  382212.333333      205541.666667   \n",
       "median  211540.000000  79105.000000  382125.000000      204876.000000   \n",
       "min     198270.000000  72738.000000  364840.000000      198320.000000   \n",
       "max     225380.000000  85290.000000  399672.000000      213429.000000   \n",
       "std      13555.998672   6276.219908            NaN                NaN   \n",
       "\n",
       "            Cash_Flow  \n",
       "mean     95685.666667  \n",
       "median   95678.000000  \n",
       "min      89034.000000  \n",
       "max     102345.000000  \n",
       "std               NaN  "
      ]
     },
     "execution_count": 33,
     "metadata": {},
     "output_type": "execute_result"
    }
   ],
   "source": [
    "microsoft_df = df[df[\"Company\"] == \"Microsoft\"]\n",
    "\n",
    "microsoft_summary = microsoft_df.agg({\n",
    "    \"Total_Revenue\": [\"mean\", \"median\", \"min\", \"max\", \"std\"],\n",
    "    \"Net_Income\": [\"mean\", \"median\", \"min\", \"max\", \"std\"],\n",
    "    \"Total_Assets\": [\"mean\", \"median\", \"min\", \"max\"],\n",
    "    \"Total_Liabilities\": [\"mean\", \"median\", \"min\", \"max\"],\n",
    "    \"Cash_Flow\": [\"mean\", \"median\", \"min\", \"max\"]\n",
    "})\n",
    "microsoft_summary"
   ]
  },
  {
   "cell_type": "code",
   "execution_count": 34,
   "id": "379a17db-e61a-4242-ac31-6507294bced6",
   "metadata": {},
   "outputs": [
    {
     "data": {
      "image/png": "[encoded data removed]",
      "text/plain": [
       "<Figure size 800x300 with 1 Axes>"
      ]
     },
     "metadata": {},
     "output_type": "display_data"
    }
   ],
   "source": [
    "plt.figure(figsize=(8, 3))\n",
    "sns.lineplot(data=microsoft_df, x=\"Fiscal_Year\", y=\"Total_Revenue\", marker=\"o\", label=\"Revenue\")\n",
    "sns.lineplot(data=microsoft_df, x=\"Fiscal_Year\", y=\"Net_Income\", marker=\"s\", label=\"Net Income\")\n",
    "plt.title(\"Microsoft Financial Trends\")\n",
    "plt.legend()\n",
    "plt.xticks(rotation=45)\n",
    "plt.show()"
   ]
  },
  {
   "cell_type": "markdown",
   "id": "1efd3de1-d57a-4537-bfe8-b4f2c76438ae",
   "metadata": {},
   "source": [
    "# Interpretation of the Visuals"
   ]
  },
  {
   "cell_type": "markdown",
   "id": "cbfb34b8-db90-4318-9c9b-1996ddc62791",
   "metadata": {},
   "source": [
    "- **Revenue and Net Income Growth:** The line plots show how the revenue and net income change over the years for each company.\n",
    "- **Profitability Ratios:** Higher Net Profit Margin suggests better efficiency.\n",
    "- **Debt-to-Asset Ratio:** Helps understand financial leverage.\n",
    "- **Cash Flow Efficiency:** Determines how well revenue converts to cash."
   ]
  },
  {
   "cell_type": "code",
   "execution_count": 59,
   "id": "4654ee93-33bc-4776-b490-f28516aa2683",
   "metadata": {},
   "outputs": [],
   "source": [
    "df\n",
    "df.to_csv('modified_company_data.csv', index=False)"
   ]
  },
  {
   "cell_type": "code",
   "execution_count": null,
   "id": "bbec1da5-2d87-46ae-ac0b-5958d31f375a",
   "metadata": {},
   "outputs": [],
   "source": []
  }
 ],
 "metadata": {
  "kernelspec": {
   "display_name": "Python 3 (ipykernel)",
   "language": "python",
   "name": "python3"
  },
  "language_info": {
   "codemirror_mode": {
    "name": "ipython",
    "version": 3
   },
   "file_extension": ".py",
   "mimetype": "text/x-python",
   "name": "python",
   "nbconvert_exporter": "python",
   "pygments_lexer": "ipython3",
   "version": "3.12.7"
  }
 },
 "nbformat": 4,
 "nbformat_minor": 5
}
